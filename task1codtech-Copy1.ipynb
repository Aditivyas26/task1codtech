{
 "cells": [
  {
   "cell_type": "code",
   "execution_count": 1,
   "metadata": {},
   "outputs": [],
   "source": [
    "import pandas as pd\n",
    "import numpy as np\n",
    "import matplotlib.pyplot as plt\n",
    "import seaborn as sns "
   ]
  },
  {
   "cell_type": "code",
   "execution_count": 11,
   "metadata": {},
   "outputs": [
    {
     "name": "stdout",
     "output_type": "stream",
     "text": [
      "  Manufacturer    Model  Sales_in_thousands  __year_resale_value Vehicle_type  \\\n",
      "0        Acura  Integra              16.919               16.360    Passenger   \n",
      "1        Acura       TL              39.384               19.875    Passenger   \n",
      "2        Acura       CL              14.114               18.225    Passenger   \n",
      "3        Acura       RL               8.588               29.725    Passenger   \n",
      "4         Audi       A4              20.397               22.255    Passenger   \n",
      "\n",
      "   Price_in_thousands  Engine_size  Horsepower  Wheelbase  Width  Length  \\\n",
      "0               21.50          1.8       140.0      101.2   67.3   172.4   \n",
      "1               28.40          3.2       225.0      108.1   70.3   192.9   \n",
      "2                 NaN          3.2       225.0      106.9   70.6   192.0   \n",
      "3               42.00          3.5       210.0      114.6   71.4   196.6   \n",
      "4               23.99          1.8       150.0      102.6   68.2   178.0   \n",
      "\n",
      "   Curb_weight  Fuel_capacity  Fuel_efficiency Latest_Launch  \\\n",
      "0        2.639           13.2             28.0      2/2/2012   \n",
      "1        3.517           17.2             25.0      6/3/2011   \n",
      "2        3.470           17.2             26.0      1/4/2012   \n",
      "3        3.850           18.0             22.0     3/10/2011   \n",
      "4        2.998           16.4             27.0     10/8/2011   \n",
      "\n",
      "   Power_perf_factor  \n",
      "0          58.280150  \n",
      "1          91.370778  \n",
      "2                NaN  \n",
      "3          91.389779  \n",
      "4          62.777639  \n"
     ]
    }
   ],
   "source": [
    "df=pd.read_csv(\"Car_sales (2).csv\")\n",
    "print(df.head())"
   ]
  },
  {
   "cell_type": "code",
   "execution_count": 12,
   "metadata": {},
   "outputs": [
    {
     "data": {
      "text/plain": [
       "(157, 16)"
      ]
     },
     "execution_count": 12,
     "metadata": {},
     "output_type": "execute_result"
    }
   ],
   "source": [
    "df.shape"
   ]
  },
  {
   "cell_type": "code",
   "execution_count": 13,
   "metadata": {},
   "outputs": [
    {
     "data": {
      "text/plain": [
       "<bound method DataFrame.info of     Manufacturer    Model  Sales_in_thousands  __year_resale_value  \\\n",
       "0          Acura  Integra              16.919               16.360   \n",
       "1          Acura       TL              39.384               19.875   \n",
       "2          Acura       CL              14.114               18.225   \n",
       "3          Acura       RL               8.588               29.725   \n",
       "4           Audi       A4              20.397               22.255   \n",
       "..           ...      ...                 ...                  ...   \n",
       "152        Volvo      V40               3.545                  NaN   \n",
       "153        Volvo      S70              15.245                  NaN   \n",
       "154        Volvo      V70              17.531                  NaN   \n",
       "155        Volvo      C70               3.493                  NaN   \n",
       "156        Volvo      S80              18.969                  NaN   \n",
       "\n",
       "    Vehicle_type  Price_in_thousands  Engine_size  Horsepower  Wheelbase  \\\n",
       "0      Passenger               21.50          1.8       140.0      101.2   \n",
       "1      Passenger               28.40          3.2       225.0      108.1   \n",
       "2      Passenger                 NaN          3.2       225.0      106.9   \n",
       "3      Passenger               42.00          3.5       210.0      114.6   \n",
       "4      Passenger               23.99          1.8       150.0      102.6   \n",
       "..           ...                 ...          ...         ...        ...   \n",
       "152    Passenger               24.40          1.9       160.0      100.5   \n",
       "153    Passenger               27.50          2.4       168.0      104.9   \n",
       "154    Passenger               28.80          2.4       168.0      104.9   \n",
       "155    Passenger               45.50          2.3       236.0      104.9   \n",
       "156    Passenger               36.00          2.9       201.0      109.9   \n",
       "\n",
       "     Width  Length  Curb_weight  Fuel_capacity  Fuel_efficiency Latest_Launch  \\\n",
       "0     67.3   172.4        2.639           13.2             28.0      2/2/2012   \n",
       "1     70.3   192.9        3.517           17.2             25.0      6/3/2011   \n",
       "2     70.6   192.0        3.470           17.2             26.0      1/4/2012   \n",
       "3     71.4   196.6        3.850           18.0             22.0     3/10/2011   \n",
       "4     68.2   178.0        2.998           16.4             27.0     10/8/2011   \n",
       "..     ...     ...          ...            ...              ...           ...   \n",
       "152   67.6   176.6        3.042           15.8             25.0     9/21/2011   \n",
       "153   69.3   185.9        3.208           17.9             25.0    11/24/2012   \n",
       "154   69.3   186.2        3.259           17.9             25.0     6/25/2011   \n",
       "155   71.5   185.7        3.601           18.5             23.0     4/26/2011   \n",
       "156   72.1   189.8        3.600           21.1             24.0    11/14/2011   \n",
       "\n",
       "     Power_perf_factor  \n",
       "0            58.280150  \n",
       "1            91.370778  \n",
       "2                  NaN  \n",
       "3            91.389779  \n",
       "4            62.777639  \n",
       "..                 ...  \n",
       "152          66.498812  \n",
       "153          70.654495  \n",
       "154          71.155978  \n",
       "155         101.623357  \n",
       "156          85.735655  \n",
       "\n",
       "[157 rows x 16 columns]>"
      ]
     },
     "execution_count": 13,
     "metadata": {},
     "output_type": "execute_result"
    }
   ],
   "source": [
    "df.info"
   ]
  },
  {
   "cell_type": "code",
   "execution_count": 15,
   "metadata": {},
   "outputs": [
    {
     "data": {
      "text/plain": [
       "Manufacturer            object\n",
       "Model                   object\n",
       "Sales_in_thousands     float64\n",
       "__year_resale_value    float64\n",
       "Vehicle_type            object\n",
       "Price_in_thousands     float64\n",
       "Engine_size            float64\n",
       "Horsepower             float64\n",
       "Wheelbase              float64\n",
       "Width                  float64\n",
       "Length                 float64\n",
       "Curb_weight            float64\n",
       "Fuel_capacity          float64\n",
       "Fuel_efficiency        float64\n",
       "Latest_Launch           object\n",
       "Power_perf_factor      float64\n",
       "dtype: object"
      ]
     },
     "execution_count": 15,
     "metadata": {},
     "output_type": "execute_result"
    }
   ],
   "source": [
    "df.dtypes"
   ]
  },
  {
   "cell_type": "code",
   "execution_count": 23,
   "metadata": {},
   "outputs": [
    {
     "name": "stdout",
     "output_type": "stream",
     "text": [
      "<class 'pandas.core.frame.DataFrame'>\n",
      "RangeIndex: 157 entries, 0 to 156\n",
      "Data columns (total 16 columns):\n",
      " #   Column               Non-Null Count  Dtype  \n",
      "---  ------               --------------  -----  \n",
      " 0   Manufacturer         157 non-null    object \n",
      " 1   Model                157 non-null    object \n",
      " 2   Sales_in_thousands   157 non-null    float64\n",
      " 3   __year_resale_value  121 non-null    float64\n",
      " 4   Vehicle_type         157 non-null    object \n",
      " 5   Price_in_thousands   155 non-null    float64\n",
      " 6   Engine_size          156 non-null    float64\n",
      " 7   Horsepower           156 non-null    float64\n",
      " 8   Wheelbase            156 non-null    float64\n",
      " 9   Width                156 non-null    float64\n",
      " 10  Length               156 non-null    float64\n",
      " 11  Curb_weight          155 non-null    float64\n",
      " 12  Fuel_capacity        156 non-null    float64\n",
      " 13  Fuel_efficiency      154 non-null    float64\n",
      " 14  Latest_Launch        157 non-null    object \n",
      " 15  Power_perf_factor    155 non-null    float64\n",
      "dtypes: float64(12), object(4)\n",
      "memory usage: 19.8+ KB\n"
     ]
    }
   ],
   "source": [
    "df.info()"
   ]
  },
  {
   "cell_type": "code",
   "execution_count": 24,
   "metadata": {},
   "outputs": [
    {
     "data": {
      "text/plain": [
       "Manufacturer            0\n",
       "Model                   0\n",
       "Sales_in_thousands      0\n",
       "__year_resale_value    36\n",
       "Vehicle_type            0\n",
       "Price_in_thousands      2\n",
       "Engine_size             1\n",
       "Horsepower              1\n",
       "Wheelbase               1\n",
       "Width                   1\n",
       "Length                  1\n",
       "Curb_weight             2\n",
       "Fuel_capacity           1\n",
       "Fuel_efficiency         3\n",
       "Latest_Launch           0\n",
       "Power_perf_factor       2\n",
       "dtype: int64"
      ]
     },
     "execution_count": 24,
     "metadata": {},
     "output_type": "execute_result"
    }
   ],
   "source": [
    "df.isnull().sum()"
   ]
  },
  {
   "cell_type": "code",
   "execution_count": 31,
   "metadata": {},
   "outputs": [
    {
     "data": {
      "text/plain": [
       "Manufacturer           117\n",
       "Model                  117\n",
       "Sales_in_thousands     117\n",
       "__year_resale_value    117\n",
       "Vehicle_type           117\n",
       "Price_in_thousands     117\n",
       "Engine_size            117\n",
       "Horsepower             117\n",
       "Wheelbase              117\n",
       "Width                  117\n",
       "Length                 117\n",
       "Curb_weight            117\n",
       "Fuel_capacity          117\n",
       "Fuel_efficiency        117\n",
       "Latest_Launch          117\n",
       "Power_perf_factor      117\n",
       "dtype: int64"
      ]
     },
     "execution_count": 31,
     "metadata": {},
     "output_type": "execute_result"
    }
   ],
   "source": [
    "df.dropna(inplace=True)\n",
    "df.count()"
   ]
  },
  {
   "cell_type": "code",
   "execution_count": 30,
   "metadata": {},
   "outputs": [
    {
     "name": "stdout",
     "output_type": "stream",
     "text": [
      "Manufacturer           0\n",
      "Model                  0\n",
      "Sales_in_thousands     0\n",
      "__year_resale_value    0\n",
      "Vehicle_type           0\n",
      "Price_in_thousands     0\n",
      "Engine_size            0\n",
      "Horsepower             0\n",
      "Wheelbase              0\n",
      "Width                  0\n",
      "Length                 0\n",
      "Curb_weight            0\n",
      "Fuel_capacity          0\n",
      "Fuel_efficiency        0\n",
      "Latest_Launch          0\n",
      "Power_perf_factor      0\n",
      "dtype: int64\n"
     ]
    }
   ],
   "source": [
    "print(df.isnull().sum())"
   ]
  },
  {
   "cell_type": "code",
   "execution_count": 37,
   "metadata": {},
   "outputs": [
    {
     "data": {
      "text/html": [
       "<div>\n",
       "<style scoped>\n",
       "    .dataframe tbody tr th:only-of-type {\n",
       "        vertical-align: middle;\n",
       "    }\n",
       "\n",
       "    .dataframe tbody tr th {\n",
       "        vertical-align: top;\n",
       "    }\n",
       "\n",
       "    .dataframe thead th {\n",
       "        text-align: right;\n",
       "    }\n",
       "</style>\n",
       "<table border=\"1\" class=\"dataframe\">\n",
       "  <thead>\n",
       "    <tr style=\"text-align: right;\">\n",
       "      <th></th>\n",
       "      <th>Manufacturer</th>\n",
       "      <th>Model</th>\n",
       "      <th>sales</th>\n",
       "      <th>resalevalue</th>\n",
       "      <th>Vehicle_type</th>\n",
       "      <th>price</th>\n",
       "      <th>Engine_size</th>\n",
       "      <th>Horsepower</th>\n",
       "      <th>Wheelbase</th>\n",
       "      <th>Width</th>\n",
       "      <th>Length</th>\n",
       "      <th>Curb_weight</th>\n",
       "      <th>Fuel_capacity</th>\n",
       "      <th>Fuel_efficiency</th>\n",
       "      <th>Latest_Launch</th>\n",
       "      <th>Power_perf_factor</th>\n",
       "    </tr>\n",
       "  </thead>\n",
       "  <tbody>\n",
       "    <tr>\n",
       "      <th>0</th>\n",
       "      <td>Acura</td>\n",
       "      <td>Integra</td>\n",
       "      <td>16.919</td>\n",
       "      <td>16.360</td>\n",
       "      <td>Passenger</td>\n",
       "      <td>21.50</td>\n",
       "      <td>1.8</td>\n",
       "      <td>140.0</td>\n",
       "      <td>101.2</td>\n",
       "      <td>67.3</td>\n",
       "      <td>172.4</td>\n",
       "      <td>2.639</td>\n",
       "      <td>13.2</td>\n",
       "      <td>28.0</td>\n",
       "      <td>2/2/2012</td>\n",
       "      <td>58.280150</td>\n",
       "    </tr>\n",
       "    <tr>\n",
       "      <th>1</th>\n",
       "      <td>Acura</td>\n",
       "      <td>TL</td>\n",
       "      <td>39.384</td>\n",
       "      <td>19.875</td>\n",
       "      <td>Passenger</td>\n",
       "      <td>28.40</td>\n",
       "      <td>3.2</td>\n",
       "      <td>225.0</td>\n",
       "      <td>108.1</td>\n",
       "      <td>70.3</td>\n",
       "      <td>192.9</td>\n",
       "      <td>3.517</td>\n",
       "      <td>17.2</td>\n",
       "      <td>25.0</td>\n",
       "      <td>6/3/2011</td>\n",
       "      <td>91.370778</td>\n",
       "    </tr>\n",
       "    <tr>\n",
       "      <th>3</th>\n",
       "      <td>Acura</td>\n",
       "      <td>RL</td>\n",
       "      <td>8.588</td>\n",
       "      <td>29.725</td>\n",
       "      <td>Passenger</td>\n",
       "      <td>42.00</td>\n",
       "      <td>3.5</td>\n",
       "      <td>210.0</td>\n",
       "      <td>114.6</td>\n",
       "      <td>71.4</td>\n",
       "      <td>196.6</td>\n",
       "      <td>3.850</td>\n",
       "      <td>18.0</td>\n",
       "      <td>22.0</td>\n",
       "      <td>3/10/2011</td>\n",
       "      <td>91.389779</td>\n",
       "    </tr>\n",
       "    <tr>\n",
       "      <th>4</th>\n",
       "      <td>Audi</td>\n",
       "      <td>A4</td>\n",
       "      <td>20.397</td>\n",
       "      <td>22.255</td>\n",
       "      <td>Passenger</td>\n",
       "      <td>23.99</td>\n",
       "      <td>1.8</td>\n",
       "      <td>150.0</td>\n",
       "      <td>102.6</td>\n",
       "      <td>68.2</td>\n",
       "      <td>178.0</td>\n",
       "      <td>2.998</td>\n",
       "      <td>16.4</td>\n",
       "      <td>27.0</td>\n",
       "      <td>10/8/2011</td>\n",
       "      <td>62.777639</td>\n",
       "    </tr>\n",
       "    <tr>\n",
       "      <th>5</th>\n",
       "      <td>Audi</td>\n",
       "      <td>A6</td>\n",
       "      <td>18.780</td>\n",
       "      <td>23.555</td>\n",
       "      <td>Passenger</td>\n",
       "      <td>33.95</td>\n",
       "      <td>2.8</td>\n",
       "      <td>200.0</td>\n",
       "      <td>108.7</td>\n",
       "      <td>76.1</td>\n",
       "      <td>192.0</td>\n",
       "      <td>3.561</td>\n",
       "      <td>18.5</td>\n",
       "      <td>22.0</td>\n",
       "      <td>8/9/2011</td>\n",
       "      <td>84.565105</td>\n",
       "    </tr>\n",
       "  </tbody>\n",
       "</table>\n",
       "</div>"
      ],
      "text/plain": [
       "  Manufacturer    Model   sales  resalevalue Vehicle_type  price  Engine_size  \\\n",
       "0        Acura  Integra  16.919       16.360    Passenger  21.50          1.8   \n",
       "1        Acura       TL  39.384       19.875    Passenger  28.40          3.2   \n",
       "3        Acura       RL   8.588       29.725    Passenger  42.00          3.5   \n",
       "4         Audi       A4  20.397       22.255    Passenger  23.99          1.8   \n",
       "5         Audi       A6  18.780       23.555    Passenger  33.95          2.8   \n",
       "\n",
       "   Horsepower  Wheelbase  Width  Length  Curb_weight  Fuel_capacity  \\\n",
       "0       140.0      101.2   67.3   172.4        2.639           13.2   \n",
       "1       225.0      108.1   70.3   192.9        3.517           17.2   \n",
       "3       210.0      114.6   71.4   196.6        3.850           18.0   \n",
       "4       150.0      102.6   68.2   178.0        2.998           16.4   \n",
       "5       200.0      108.7   76.1   192.0        3.561           18.5   \n",
       "\n",
       "   Fuel_efficiency Latest_Launch  Power_perf_factor  \n",
       "0             28.0      2/2/2012          58.280150  \n",
       "1             25.0      6/3/2011          91.370778  \n",
       "3             22.0     3/10/2011          91.389779  \n",
       "4             27.0     10/8/2011          62.777639  \n",
       "5             22.0      8/9/2011          84.565105  "
      ]
     },
     "execution_count": 37,
     "metadata": {},
     "output_type": "execute_result"
    }
   ],
   "source": [
    "df=df.rename(columns={\"Sales_in_thousands\":\"sales\",\"__year_resale_value\":\"resalevalue\",\"Price_in_thousands\":\"price\"})\n",
    "df.head()"
   ]
  },
  {
   "cell_type": "code",
   "execution_count": 38,
   "metadata": {},
   "outputs": [
    {
     "data": {
      "text/plain": [
       "<AxesSubplot:xlabel='price'>"
      ]
     },
     "execution_count": 38,
     "metadata": {},
     "output_type": "execute_result"
    },
    {
     "data": {
      "image/png": "[encoded data removed]",
      "text/plain": [
       "<Figure size 432x288 with 1 Axes>"
      ]
     },
     "metadata": {
      "needs_background": "light"
     },
     "output_type": "display_data"
    }
   ],
   "source": [
    "sns.boxplot(x=df['price'])"
   ]
  },
  {
   "cell_type": "code",
   "execution_count": 39,
   "metadata": {},
   "outputs": [
    {
     "data": {
      "text/plain": [
       "<AxesSubplot:xlabel='Horsepower'>"
      ]
     },
     "execution_count": 39,
     "metadata": {},
     "output_type": "execute_result"
    },
    {
     "data": {
      "image/png": "[encoded data removed]",
      "text/plain": [
       "<Figure size 432x288 with 1 Axes>"
      ]
     },
     "metadata": {
      "needs_background": "light"
     },
     "output_type": "display_data"
    }
   ],
   "source": [
    "sns.boxplot(x=df[\"Horsepower\"])"
   ]
  },
  {
   "cell_type": "code",
   "execution_count": 41,
   "metadata": {},
   "outputs": [
    {
     "data": {
      "text/plain": [
       "<AxesSubplot:xlabel='Fuel_capacity'>"
      ]
     },
     "execution_count": 41,
     "metadata": {},
     "output_type": "execute_result"
    },
    {
     "data": {
      "image/png": "[encoded data removed]",
      "text/plain": [
       "<Figure size 432x288 with 1 Axes>"
      ]
     },
     "metadata": {
      "needs_background": "light"
     },
     "output_type": "display_data"
    }
   ],
   "source": [
    "sns.boxplot(x=df[\"Fuel_capacity\"])"
   ]
  },
  {
   "cell_type": "code",
   "execution_count": 42,
   "metadata": {},
   "outputs": [
    {
     "name": "stdout",
     "output_type": "stream",
     "text": [
      "sales                59.262000\n",
      "resalevalue           8.635000\n",
      "price                12.485000\n",
      "Engine_size           1.600000\n",
      "Horsepower           70.000000\n",
      "Wheelbase             9.200000\n",
      "Width                 5.100000\n",
      "Length               19.000000\n",
      "Curb_weight           0.912000\n",
      "Fuel_capacity         4.500000\n",
      "Fuel_efficiency       4.000000\n",
      "Power_perf_factor    30.531292\n",
      "dtype: float64\n"
     ]
    }
   ],
   "source": [
    "Q1=df.quantile(0.25)\n",
    "Q3=df.quantile(0.75)\n",
    "IQR=Q3-Q1\n",
    "print(IQR)"
   ]
  },
  {
   "cell_type": "code",
   "execution_count": 44,
   "metadata": {},
   "outputs": [
    {
     "data": {
      "text/plain": [
       "(88, 16)"
      ]
     },
     "execution_count": 44,
     "metadata": {},
     "output_type": "execute_result"
    }
   ],
   "source": [
    "df=df[~((df<(Q1-1.5*IQR)) |(df>(Q3 + 1.5*IQR))).any(axis=1)]\n",
    "df.shape"
   ]
  },
  {
   "cell_type": "code",
   "execution_count": 45,
   "metadata": {},
   "outputs": [
    {
     "data": {
      "text/html": [
       "<div>\n",
       "<style scoped>\n",
       "    .dataframe tbody tr th:only-of-type {\n",
       "        vertical-align: middle;\n",
       "    }\n",
       "\n",
       "    .dataframe tbody tr th {\n",
       "        vertical-align: top;\n",
       "    }\n",
       "\n",
       "    .dataframe thead th {\n",
       "        text-align: right;\n",
       "    }\n",
       "</style>\n",
       "<table border=\"1\" class=\"dataframe\">\n",
       "  <thead>\n",
       "    <tr style=\"text-align: right;\">\n",
       "      <th></th>\n",
       "      <th>sales</th>\n",
       "      <th>resalevalue</th>\n",
       "      <th>price</th>\n",
       "      <th>Engine_size</th>\n",
       "      <th>Horsepower</th>\n",
       "      <th>Wheelbase</th>\n",
       "      <th>Width</th>\n",
       "      <th>Length</th>\n",
       "      <th>Curb_weight</th>\n",
       "      <th>Fuel_capacity</th>\n",
       "      <th>Fuel_efficiency</th>\n",
       "      <th>Power_perf_factor</th>\n",
       "    </tr>\n",
       "  </thead>\n",
       "  <tbody>\n",
       "    <tr>\n",
       "      <th>sales</th>\n",
       "      <td>1.000000</td>\n",
       "      <td>-0.243695</td>\n",
       "      <td>-0.186597</td>\n",
       "      <td>0.150915</td>\n",
       "      <td>-0.048423</td>\n",
       "      <td>0.142258</td>\n",
       "      <td>0.144334</td>\n",
       "      <td>0.058984</td>\n",
       "      <td>0.042408</td>\n",
       "      <td>0.107491</td>\n",
       "      <td>-0.097150</td>\n",
       "      <td>-0.070482</td>\n",
       "    </tr>\n",
       "    <tr>\n",
       "      <th>resalevalue</th>\n",
       "      <td>-0.243695</td>\n",
       "      <td>1.000000</td>\n",
       "      <td>0.874265</td>\n",
       "      <td>0.446392</td>\n",
       "      <td>0.637533</td>\n",
       "      <td>0.344009</td>\n",
       "      <td>0.242160</td>\n",
       "      <td>0.283969</td>\n",
       "      <td>0.603647</td>\n",
       "      <td>0.503949</td>\n",
       "      <td>-0.482511</td>\n",
       "      <td>0.691008</td>\n",
       "    </tr>\n",
       "    <tr>\n",
       "      <th>price</th>\n",
       "      <td>-0.186597</td>\n",
       "      <td>0.874265</td>\n",
       "      <td>1.000000</td>\n",
       "      <td>0.700738</td>\n",
       "      <td>0.840606</td>\n",
       "      <td>0.550726</td>\n",
       "      <td>0.468809</td>\n",
       "      <td>0.562607</td>\n",
       "      <td>0.781810</td>\n",
       "      <td>0.600385</td>\n",
       "      <td>-0.588477</td>\n",
       "      <td>0.886687</td>\n",
       "    </tr>\n",
       "    <tr>\n",
       "      <th>Engine_size</th>\n",
       "      <td>0.150915</td>\n",
       "      <td>0.446392</td>\n",
       "      <td>0.700738</td>\n",
       "      <td>1.000000</td>\n",
       "      <td>0.834509</td>\n",
       "      <td>0.611369</td>\n",
       "      <td>0.670943</td>\n",
       "      <td>0.706943</td>\n",
       "      <td>0.826861</td>\n",
       "      <td>0.644217</td>\n",
       "      <td>-0.705899</td>\n",
       "      <td>0.834697</td>\n",
       "    </tr>\n",
       "    <tr>\n",
       "      <th>Horsepower</th>\n",
       "      <td>-0.048423</td>\n",
       "      <td>0.637533</td>\n",
       "      <td>0.840606</td>\n",
       "      <td>0.834509</td>\n",
       "      <td>1.000000</td>\n",
       "      <td>0.615742</td>\n",
       "      <td>0.581132</td>\n",
       "      <td>0.720037</td>\n",
       "      <td>0.759346</td>\n",
       "      <td>0.582216</td>\n",
       "      <td>-0.563392</td>\n",
       "      <td>0.995767</td>\n",
       "    </tr>\n",
       "    <tr>\n",
       "      <th>Wheelbase</th>\n",
       "      <td>0.142258</td>\n",
       "      <td>0.344009</td>\n",
       "      <td>0.550726</td>\n",
       "      <td>0.611369</td>\n",
       "      <td>0.615742</td>\n",
       "      <td>1.000000</td>\n",
       "      <td>0.730771</td>\n",
       "      <td>0.837923</td>\n",
       "      <td>0.736383</td>\n",
       "      <td>0.637911</td>\n",
       "      <td>-0.422596</td>\n",
       "      <td>0.619979</td>\n",
       "    </tr>\n",
       "    <tr>\n",
       "      <th>Width</th>\n",
       "      <td>0.144334</td>\n",
       "      <td>0.242160</td>\n",
       "      <td>0.468809</td>\n",
       "      <td>0.670943</td>\n",
       "      <td>0.581132</td>\n",
       "      <td>0.730771</td>\n",
       "      <td>1.000000</td>\n",
       "      <td>0.760857</td>\n",
       "      <td>0.665568</td>\n",
       "      <td>0.532007</td>\n",
       "      <td>-0.403076</td>\n",
       "      <td>0.577696</td>\n",
       "    </tr>\n",
       "    <tr>\n",
       "      <th>Length</th>\n",
       "      <td>0.058984</td>\n",
       "      <td>0.283969</td>\n",
       "      <td>0.562607</td>\n",
       "      <td>0.706943</td>\n",
       "      <td>0.720037</td>\n",
       "      <td>0.837923</td>\n",
       "      <td>0.760857</td>\n",
       "      <td>1.000000</td>\n",
       "      <td>0.675007</td>\n",
       "      <td>0.484815</td>\n",
       "      <td>-0.335523</td>\n",
       "      <td>0.711115</td>\n",
       "    </tr>\n",
       "    <tr>\n",
       "      <th>Curb_weight</th>\n",
       "      <td>0.042408</td>\n",
       "      <td>0.603647</td>\n",
       "      <td>0.781810</td>\n",
       "      <td>0.826861</td>\n",
       "      <td>0.759346</td>\n",
       "      <td>0.736383</td>\n",
       "      <td>0.665568</td>\n",
       "      <td>0.675007</td>\n",
       "      <td>1.000000</td>\n",
       "      <td>0.848055</td>\n",
       "      <td>-0.806912</td>\n",
       "      <td>0.782864</td>\n",
       "    </tr>\n",
       "    <tr>\n",
       "      <th>Fuel_capacity</th>\n",
       "      <td>0.107491</td>\n",
       "      <td>0.503949</td>\n",
       "      <td>0.600385</td>\n",
       "      <td>0.644217</td>\n",
       "      <td>0.582216</td>\n",
       "      <td>0.637911</td>\n",
       "      <td>0.532007</td>\n",
       "      <td>0.484815</td>\n",
       "      <td>0.848055</td>\n",
       "      <td>1.000000</td>\n",
       "      <td>-0.815025</td>\n",
       "      <td>0.600538</td>\n",
       "    </tr>\n",
       "    <tr>\n",
       "      <th>Fuel_efficiency</th>\n",
       "      <td>-0.097150</td>\n",
       "      <td>-0.482511</td>\n",
       "      <td>-0.588477</td>\n",
       "      <td>-0.705899</td>\n",
       "      <td>-0.563392</td>\n",
       "      <td>-0.422596</td>\n",
       "      <td>-0.403076</td>\n",
       "      <td>-0.335523</td>\n",
       "      <td>-0.806912</td>\n",
       "      <td>-0.815025</td>\n",
       "      <td>1.000000</td>\n",
       "      <td>-0.583437</td>\n",
       "    </tr>\n",
       "    <tr>\n",
       "      <th>Power_perf_factor</th>\n",
       "      <td>-0.070482</td>\n",
       "      <td>0.691008</td>\n",
       "      <td>0.886687</td>\n",
       "      <td>0.834697</td>\n",
       "      <td>0.995767</td>\n",
       "      <td>0.619979</td>\n",
       "      <td>0.577696</td>\n",
       "      <td>0.711115</td>\n",
       "      <td>0.782864</td>\n",
       "      <td>0.600538</td>\n",
       "      <td>-0.583437</td>\n",
       "      <td>1.000000</td>\n",
       "    </tr>\n",
       "  </tbody>\n",
       "</table>\n",
       "</div>"
      ],
      "text/plain": [
       "                      sales  resalevalue     price  Engine_size  Horsepower  \\\n",
       "sales              1.000000    -0.243695 -0.186597     0.150915   -0.048423   \n",
       "resalevalue       -0.243695     1.000000  0.874265     0.446392    0.637533   \n",
       "price             -0.186597     0.874265  1.000000     0.700738    0.840606   \n",
       "Engine_size        0.150915     0.446392  0.700738     1.000000    0.834509   \n",
       "Horsepower        -0.048423     0.637533  0.840606     0.834509    1.000000   \n",
       "Wheelbase          0.142258     0.344009  0.550726     0.611369    0.615742   \n",
       "Width              0.144334     0.242160  0.468809     0.670943    0.581132   \n",
       "Length             0.058984     0.283969  0.562607     0.706943    0.720037   \n",
       "Curb_weight        0.042408     0.603647  0.781810     0.826861    0.759346   \n",
       "Fuel_capacity      0.107491     0.503949  0.600385     0.644217    0.582216   \n",
       "Fuel_efficiency   -0.097150    -0.482511 -0.588477    -0.705899   -0.563392   \n",
       "Power_perf_factor -0.070482     0.691008  0.886687     0.834697    0.995767   \n",
       "\n",
       "                   Wheelbase     Width    Length  Curb_weight  Fuel_capacity  \\\n",
       "sales               0.142258  0.144334  0.058984     0.042408       0.107491   \n",
       "resalevalue         0.344009  0.242160  0.283969     0.603647       0.503949   \n",
       "price               0.550726  0.468809  0.562607     0.781810       0.600385   \n",
       "Engine_size         0.611369  0.670943  0.706943     0.826861       0.644217   \n",
       "Horsepower          0.615742  0.581132  0.720037     0.759346       0.582216   \n",
       "Wheelbase           1.000000  0.730771  0.837923     0.736383       0.637911   \n",
       "Width               0.730771  1.000000  0.760857     0.665568       0.532007   \n",
       "Length              0.837923  0.760857  1.000000     0.675007       0.484815   \n",
       "Curb_weight         0.736383  0.665568  0.675007     1.000000       0.848055   \n",
       "Fuel_capacity       0.637911  0.532007  0.484815     0.848055       1.000000   \n",
       "Fuel_efficiency    -0.422596 -0.403076 -0.335523    -0.806912      -0.815025   \n",
       "Power_perf_factor   0.619979  0.577696  0.711115     0.782864       0.600538   \n",
       "\n",
       "                   Fuel_efficiency  Power_perf_factor  \n",
       "sales                    -0.097150          -0.070482  \n",
       "resalevalue              -0.482511           0.691008  \n",
       "price                    -0.588477           0.886687  \n",
       "Engine_size              -0.705899           0.834697  \n",
       "Horsepower               -0.563392           0.995767  \n",
       "Wheelbase                -0.422596           0.619979  \n",
       "Width                    -0.403076           0.577696  \n",
       "Length                   -0.335523           0.711115  \n",
       "Curb_weight              -0.806912           0.782864  \n",
       "Fuel_capacity            -0.815025           0.600538  \n",
       "Fuel_efficiency           1.000000          -0.583437  \n",
       "Power_perf_factor        -0.583437           1.000000  "
      ]
     },
     "execution_count": 45,
     "metadata": {},
     "output_type": "execute_result"
    },
    {
     "data": {
      "image/png": "[encoded data removed]",
      "text/plain": [
       "<Figure size 720x360 with 2 Axes>"
      ]
     },
     "metadata": {
      "needs_background": "light"
     },
     "output_type": "display_data"
    }
   ],
   "source": [
    "plt.figure(figsize=(10,5))\n",
    "c=df.corr()\n",
    "sns.heatmap(c,cmap=\"BrBG\",annot=True)\n",
    "c"
   ]
  },
  {
   "cell_type": "code",
   "execution_count": 52,
   "metadata": {},
   "outputs": [
    {
     "data": {
      "text/plain": [
       "Text(0.5, 0, 'price')"
      ]
     },
     "execution_count": 52,
     "metadata": {},
     "output_type": "execute_result"
    },
    {
     "data": {
      "image/png": "[encoded data removed]",
      "text/plain": [
       "<Figure size 720x360 with 1 Axes>"
      ]
     },
     "metadata": {
      "needs_background": "light"
     },
     "output_type": "display_data"
    }
   ],
   "source": [
    "df.Horsepower.value_counts().nlargest(40).plot(kind='bar',figsize=(10,5))\n",
    "plt.title(\"car sales\")\n",
    "plt.ylabel(\"Horsepower\")\n",
    "plt.xlabel(\"price\")"
   ]
  },
  {
   "cell_type": "code",
   "execution_count": 54,
   "metadata": {},
   "outputs": [
    {
     "data": {
      "image/png": "[encoded data removed]",
      "text/plain": [
       "<Figure size 720x432 with 1 Axes>"
      ]
     },
     "metadata": {
      "needs_background": "light"
     },
     "output_type": "display_data"
    }
   ],
   "source": [
    "fig,ax=plt.subplots(figsize=(10,6))\n",
    "ax.scatter(df[\"Horsepower\"],df[\"price\"])\n",
    "ax.set_xlabel(\"price\")\n",
    "ax.set_ylabel(\"Horsepower\")\n",
    "plt.show()"
   ]
  },
  {
   "cell_type": "code",
   "execution_count": null,
   "metadata": {},
   "outputs": [],
   "source": []
  }
 ],
 "metadata": {
  "kernelspec": {
   "display_name": "Python 3",
   "language": "python",
   "name": "python3"
  },
  "language_info": {
   "codemirror_mode": {
    "name": "ipython",
    "version": 3
   },
   "file_extension": ".py",
   "mimetype": "text/x-python",
   "name": "python",
   "nbconvert_exporter": "python",
   "pygments_lexer": "ipython3",
   "version": "3.8.5"
  }
 },
 "nbformat": 4,
 "nbformat_minor": 4
}
